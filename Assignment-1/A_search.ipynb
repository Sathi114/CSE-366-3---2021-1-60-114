{
  "nbformat": 4,
  "nbformat_minor": 0,
  "metadata": {
    "colab": {
      "provenance": []
    },
    "kernelspec": {
      "name": "python3",
      "display_name": "Python 3"
    },
    "language_info": {
      "name": "python"
    }
  },
  "cells": [
    {
      "cell_type": "markdown",
      "source": [
        "# A* search problem"
      ],
      "metadata": {
        "id": "0vuSOBTw1Tfl"
      }
    },
    {
      "cell_type": "markdown",
      "source": [
        "## Introduction\n",
        "Search algorithms play a crucial role in many areas of computer science and artificial intelligence, particularly in pathfinding and graph traversal tasks. This lab focuses on implementing four fundamental search algorithms:\n",
        "\n",
        "Uninformed Search Strategies:\n",
        "- Depth-First Search (DFS)\n",
        "- Breadth-First Search (BFS)\n",
        "\n",
        "Informed Search Strategies:\n",
        "- Uniform Cost Search (UCS)\n",
        "- A* Search\n",
        "\n",
        "Students will apply these algorithms to a grid-based navigation problem, identifying the most efficient path from a start point to a goal point while avoiding obstacles.\n",
        "\n",
        "## Environment Setup:\n",
        "\n",
        "Implement a environment class to model the navigation environment as a 2D grid.\n",
        "The grid should include obstacles, a start point (S), and a goal point (G).\n",
        "Implement Search Algorithms:\n",
        "\n",
        "Implement the DFS and BFS algorithms to explore the grid.\n",
        "Implement the UCS and A* Search algorithms, utilizing cost functions and heuristics to find optimal paths.\n",
        "\n",
        "Visualization:\n",
        "\n",
        "Use a visualization library (e.g., matplotlib) to visually represent the grid, the obstacles, and the paths found by each algorithm."
      ],
      "metadata": {
        "id": "g5gk0wKv1ZeV"
      }
    },
    {
      "cell_type": "markdown",
      "source": [
        "# Agent Class with a A* Example"
      ],
      "metadata": {
        "id": "_KhhpJsr2W3P"
      }
    },
    {
      "cell_type": "code",
      "source": [
        "import numpy as np\n",
        "import matplotlib.pyplot as plt\n",
        "from collections import deque\n",
        "import heapq\n",
        "\n",
        "class PriorityQueue:\n",
        "    def __init__(self):\n",
        "        self.elements = []\n",
        "\n",
        "    def empty(self):\n",
        "        return len(self.elements) == 0\n",
        "\n",
        "    def put(self, item, priority):\n",
        "        heapq.heappush(self.elements, (priority, item))\n",
        "\n",
        "    def get(self):\n",
        "        return heapq.heappop(self.elements)[1]\n",
        "\n",
        "\n",
        "# Node Class represents a state in the search tree.\n",
        "class Node:\n",
        "    def __init__(self, state, parent=None, action=None, path_cost=0):\n",
        "        self.state = state  # The current position of the agent in the grid.\n",
        "        self.parent = parent  # The node in the search tree that generated this node.\n",
        "        self.action = action  # The action taken to get to this state.\n",
        "        self.path_cost = path_cost  # Cost from the start node to this node.\n",
        "\n",
        "    # Comparison operator for priority queue.\n",
        "    def __lt__(self, other):\n",
        "        return self.path_cost < other.path_cost\n"
      ],
      "metadata": {
        "id": "Y96waMbF7FH7"
      },
      "execution_count": 9,
      "outputs": []
    },
    {
      "cell_type": "code",
      "source": [
        "def heuristic(a, b):\n",
        "    \"\"\"\n",
        "    Calculate the Manhattan distance between two points a and b.\n",
        "\n",
        "    Parameters:\n",
        "    - a: Tuple representing the x and y coordinates of point a (e.g., (x1, y1))\n",
        "    - b: Tuple representing the x and y coordinates of point b (e.g., (x2, y2))\n",
        "\n",
        "    Returns:\n",
        "    - The Manhattan distance between points a and b.\n",
        "    \"\"\"\n",
        "    (x1, y1) = a\n",
        "    (x2, y2) = b\n",
        "    return abs(x1 - x2) + abs(y1 - y2)\n"
      ],
      "metadata": {
        "id": "y3fN1KOV9oyA"
      },
      "execution_count": 10,
      "outputs": []
    },
    {
      "cell_type": "code",
      "source": [
        "# Environment Class represents the grid and handles state transitions.\n",
        "class Environment:\n",
        "    def __init__(self, grid, start, goal):\n",
        "        self.grid = grid  # The grid layout where 1 represents an obstacle and 0 is free space.\n",
        "        self.initial = start  # Starting position of the agent.\n",
        "        self.goal = goal  # Goal position the agent aims to reach.\n",
        "\n",
        "    # Returns the possible actions from a given state.\n",
        "    def actions(self, state):\n",
        "        possible_actions = ['UP', 'DOWN', 'LEFT', 'RIGHT']\n",
        "        x, y = state\n",
        "\n",
        "        # Remove impossible actions based on grid boundaries and obstacles.\n",
        "        if x == 0 or self.grid[x - 1][y] == 1:\n",
        "            possible_actions.remove('UP')\n",
        "        if x == len(self.grid) - 1 or self.grid[x + 1][y] == 1:\n",
        "            possible_actions.remove('DOWN')\n",
        "        if y == 0 or self.grid[x][y - 1] == 1:\n",
        "            possible_actions.remove('LEFT')\n",
        "        if y == len(self.grid[0]) - 1 or self.grid[x][y + 1] == 1:\n",
        "            possible_actions.remove('RIGHT')\n",
        "\n",
        "        return possible_actions\n",
        "\n",
        "    # Returns the state resulting from taking a given action at a given state.\n",
        "    def result(self, state, action):\n",
        "        x, y = state\n",
        "        if action == 'UP':\n",
        "            return (x - 1, y)\n",
        "        if action == 'DOWN':\n",
        "            return (x + 1, y)\n",
        "        if action == 'LEFT':\n",
        "            return (x, y - 1)\n",
        "        if action == 'RIGHT':\n",
        "            return (x, y + 1)\n",
        "\n",
        "    # Checks if the goal has been reached.\n",
        "    def is_goal(self, state):\n",
        "        return state == self.goal"
      ],
      "metadata": {
        "id": "kaVLTi3K7HfU"
      },
      "execution_count": 11,
      "outputs": []
    },
    {
      "cell_type": "code",
      "source": [
        "class Agent:\n",
        "    def __init__(self, env):\n",
        "        self.env = env\n",
        "        self.battery = 100 # int((np.random.randint(100))/10)*10 Initial battery level\n",
        "\n",
        "    #battery section\n",
        "    def recharge(self):\n",
        "        self.battery = 100\n",
        "\n",
        "    def current_charge(self):\n",
        "        return self.battery\n",
        "\n",
        "    def a_star_search(self):\n",
        "        # The start node is created with a path cost of 0.\n",
        "        start_node = Node(self.env.initial, path_cost=0)\n",
        "        frontier = PriorityQueue()\n",
        "        frontier.put(start_node, 0)  # Priority is f-cost, initially the heuristic cost from start to goal\n",
        "        came_from = {self.env.initial: None}  # Tracks the best path to a node\n",
        "        cost_so_far = {self.env.initial: 0}  # Tracks the g-cost (cost so far to reach a node)\n",
        "\n",
        "        while not frontier.empty():\n",
        "            current_node = frontier.get()\n",
        "\n",
        "            if self.env.is_goal(current_node.state):\n",
        "                return self.reconstruct_path(came_from, current_node.state)\n",
        "\n",
        "            for action in self.env.actions(current_node.state):\n",
        "                new_state = self.env.result(current_node.state, action)\n",
        "                new_cost = cost_so_far[current_node.state] + 1  # Assuming uniform cost for simplicity\n",
        "                if new_state not in cost_so_far or new_cost < cost_so_far[new_state]:\n",
        "                    cost_so_far[new_state] = new_cost\n",
        "                    priority = new_cost + heuristic(new_state, self.env.goal)  # f-cost = g-cost + h-cost\n",
        "                    frontier.put(Node(new_state, current_node, action, new_cost), priority)\n",
        "                    came_from[new_state] = current_node.state\n",
        "\n",
        "        return []\n",
        "\n",
        "    def reconstruct_path(self, came_from, current):\n",
        "        path = []\n",
        "        while current in came_from:\n",
        "            path.append(current)\n",
        "            current = came_from[current]\n",
        "        path.append(self.env.initial)  # Start node is not in came_from\n",
        "        path.reverse()  # Reverse to get the path from start to goal\n",
        "        return path\n",
        "\n",
        "        # Battery Charging point and management\n",
        "    def battery_manager(self, path):\n",
        "        self.recharge()\n",
        "        charge = []\n",
        "\n",
        "        for i in range(len(path)):\n",
        "            if self.current_charge() <= 10:\n",
        "                charge.append(path[i])\n",
        "                self.recharge()\n",
        "                pass\n",
        "            elif path[i] != (0, 0):\n",
        "                self.battery = self.current_charge() - 10\n",
        "                pass\n",
        "            print(f\"{path[i]} = {self.current_charge()}\")\n",
        "\n",
        "\n",
        "        return charge\n"
      ],
      "metadata": {
        "id": "__odVpaW2fWB"
      },
      "execution_count": 12,
      "outputs": []
    },
    {
      "cell_type": "code",
      "source": [
        "# Visualization Function plots the grid and the found path.\n",
        "def visualize_grid_and_path(grid, path, charge):\n",
        "    grid_array = np.array(grid)  # Convert grid to numpy array for easy plotting.\n",
        "    fig, ax = plt.subplots()\n",
        "    ax.imshow(grid_array, cmap='Greys', alpha=0.3)  # Grid background.\n",
        "    start = path[0]\n",
        "    goal = path[-1]\n",
        "    ax.plot(goal[1], goal[0], 'bs', markersize=10)  # goal position in blue.\n",
        "    ax.plot(start[1], start[0], 'ks', markersize=10)  # start position in black.\n",
        "    if (charge is not None) :\n",
        "        xc, yc = zip(*charge)\n",
        "        ax.plot(yc, xc, 'gs', markersize=10)# charging position are in green.\n",
        "\n",
        "    xs, ys = zip(*path)  # Extract X and Y coordinates of the path.\n",
        "    ax.plot(ys, xs, 'r-', linewidth=2)  # Plot the path in red.\n",
        "    ax.set_xticks(np.arange(-.5, len(grid[0]), 1), minor=True)\n",
        "    ax.set_yticks(np.arange(-.5, len(grid), 1), minor=True)\n",
        "\n",
        "    ax.grid(which=\"minor\", color=\"b\", linestyle='-', linewidth=1)\n",
        "    ax.tick_params(which=\"minor\", size=0)\n",
        "    ax.tick_params(which=\"major\", bottom=False, left=False, labelbottom=False, labelleft=False)\n",
        "    plt.show()"
      ],
      "metadata": {
        "id": "_fcVNhEI7Lqd"
      },
      "execution_count": 13,
      "outputs": []
    },
    {
      "cell_type": "code",
      "source": [
        "def generate_random_grid(size, obstacle_probability):\n",
        "    return np.random.choice([0, 1], size=(size, size), p=[1-obstacle_probability, obstacle_probability])\n",
        "\n",
        "# Define the size of the grid and the probability of an obstacle in each cell\n",
        "grid_size = 10\n",
        "obstacle_probability = 0.2  # 20% chance of being an obstacle\n",
        "\n",
        "# Generate a random grid\n",
        "grid = generate_random_grid(grid_size, obstacle_probability)\n",
        "\n",
        "# Define start and goal positions\n",
        "start = (0, 0)\n",
        "goal = (grid_size - 1, grid_size - 1)\n",
        "\n",
        "# Ensure start and goal are not obstacles\n",
        "grid[start] = 0\n",
        "grid[goal] = 0\n",
        "\n",
        "# Create the environment and agent\n",
        "environment = Environment(grid, start, goal)\n",
        "agent = Agent(environment)\n",
        "\n",
        "# Solve the problem with the A* algorithm\n",
        "print(\"This is the solution using A* Search algorithm\")\n",
        "solution_path_a_star = agent.a_star_search()\n",
        "charging_point = agent.battery_manager(solution_path_a_star)\n",
        "#print(\"Solution Path:\", solution_path_a_star)\n",
        "print(\"Charging Points:\", charging_point)\n",
        "\n",
        "# Visualize the solution\n",
        "visualize_grid_and_path(grid, solution_path_a_star, charging_point)"
      ],
      "metadata": {
        "id": "2kNz3-2f8IsX",
        "colab": {
          "base_uri": "https://localhost:8080/",
          "height": 807
        },
        "outputId": "9e5cbea2-753b-4656-cfee-7123070d9607"
      },
      "execution_count": 14,
      "outputs": [
        {
          "output_type": "stream",
          "name": "stdout",
          "text": [
            "This is the solution using A* Search algorithm\n",
            "(0, 0) = 100\n",
            "(0, 0) = 100\n",
            "(0, 1) = 90\n",
            "(0, 2) = 80\n",
            "(0, 3) = 70\n",
            "(0, 4) = 60\n",
            "(1, 4) = 50\n",
            "(2, 4) = 40\n",
            "(3, 4) = 30\n",
            "(4, 4) = 20\n",
            "(5, 4) = 10\n",
            "(6, 4) = 100\n",
            "(7, 4) = 90\n",
            "(7, 5) = 80\n",
            "(7, 6) = 70\n",
            "(7, 7) = 60\n",
            "(7, 8) = 50\n",
            "(7, 9) = 40\n",
            "(8, 9) = 30\n",
            "(9, 9) = 20\n",
            "Charging Points: [(6, 4)]\n"
          ]
        },
        {
          "output_type": "display_data",
          "data": {
            "text/plain": [
              "<Figure size 640x480 with 1 Axes>"
            ],
            "image/png": "[encoded data removed]"
          },
          "metadata": {}
        }
      ]
    },
    {
      "cell_type": "code",
      "source": [],
      "metadata": {
        "id": "qRQqmBUN9006"
      },
      "execution_count": null,
      "outputs": []
    }
  ]
}